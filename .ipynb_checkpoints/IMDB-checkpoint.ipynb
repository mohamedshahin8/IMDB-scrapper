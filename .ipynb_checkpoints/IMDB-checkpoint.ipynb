{
 "cells": [
  {
   "cell_type": "code",
   "execution_count": 14,
   "metadata": {
    "collapsed": true
   },
   "outputs": [],
   "source": [
    "from urllib.request import urlopen\n",
    "from bs4 import BeautifulSoup\n",
    "import pandas as pd\n",
    "from requests import get\n",
    "\n",
    "names = []\n",
    "years = []\n",
    "times = []\n",
    "genres = []\n",
    "rates = []\n",
    "metascores = []\n",
    "votes = []\n",
    "\n",
    "def movies(year , start_page , end_page):\n",
    "\n",
    "    year = str(year)\n",
    "    pages = [str(i) for i in range(start_page ,end_page)]\n",
    "\n",
    "    requests = 0\n",
    "    \n",
    "    baseUrl = 'https://www.imdb.com/search/title?release_date=' + year\n",
    "    \n",
    "    for page in pages:\n",
    "        html = get( baseUrl + '&sort=num_votes,desc&page=' + page)\n",
    "\n",
    "        requests += 1\n",
    "\n",
    "\n",
    "        if requests > len(pages):\n",
    "            print('Number of requests was greater than expected.')\n",
    "            break\n",
    "\n",
    "        soup = BeautifulSoup(html.text , 'html.parser')\n",
    "        movies = soup.findAll(\"div\" , class_=\"lister-item mode-advanced\")\n",
    "\n",
    "        for movie in movies:\n",
    "            if movie.find(\"div\" , class_ = \"ratings-metascore\") is not None:\n",
    "\n",
    "                name = movie.h3.a.get_text()\n",
    "                names.append(name)\n",
    "\n",
    "\n",
    "                year = movie.h3.find(\"span\" , class_ = 'lister-item-year').get_text()\n",
    "                years.append(year)\n",
    "\n",
    "\n",
    "                time = movie.p.find(\"span\" , class_=\"runtime\").get_text()\n",
    "                times.append(time)\n",
    "\n",
    "\n",
    "                genre = movie.p.find(\"span\" , class_=\"genre\").get_text()\n",
    "                genres.append(genre)\n",
    "\n",
    "\n",
    "                rate = float(movie.find(\"strong\").get_text())\n",
    "                rates.append(rate)\n",
    "\n",
    "\n",
    "                metascore = movie.find(\"span\" , class_=\"metascore\").get_text()\n",
    "                metascores.append(int(metascore))\n",
    "\n",
    "\n",
    "                vote = movie.find(\"span\" , {\"name\" : \"nv\"})['data-value']\n",
    "                votes.append(int(vote))\n"
   ]
  },
  {
   "cell_type": "code",
   "execution_count": 18,
   "metadata": {
    "collapsed": true
   },
   "outputs": [],
   "source": [
    "def imdb(start_year , last_year ): \n",
    "    for year in [i for i in range(start_year , last_year)]:\n",
    "        movies(year , 1 , 3)"
   ]
  },
  {
   "cell_type": "code",
   "execution_count": 19,
   "metadata": {
    "collapsed": false
   },
   "outputs": [],
   "source": [
    "imdb(2000,2003)"
   ]
  },
  {
   "cell_type": "code",
   "execution_count": null,
   "metadata": {
    "collapsed": false
   },
   "outputs": [],
   "source": [
    "# df = pd.DataFrame({\"movie\": names,\n",
    "#            \"year\": years,\n",
    "#            \"time\" : times,\n",
    "#            \"genre\": genres,\n",
    "#            \"rate\": rates,\n",
    "#            \"metascore\" : metascores,\n",
    "#            \"votes\" : votes })\n"
   ]
  },
  {
   "cell_type": "code",
   "execution_count": null,
   "metadata": {
    "collapsed": true
   },
   "outputs": [],
   "source": []
  }
 ],
 "metadata": {
  "kernelspec": {
   "display_name": "Python 3",
   "language": "python",
   "name": "python3"
  },
  "language_info": {
   "codemirror_mode": {
    "name": "ipython",
    "version": 3
   },
   "file_extension": ".py",
   "mimetype": "text/x-python",
   "name": "python",
   "nbconvert_exporter": "python",
   "pygments_lexer": "ipython3",
   "version": "3.6.0"
  }
 },
 "nbformat": 4,
 "nbformat_minor": 2
}
